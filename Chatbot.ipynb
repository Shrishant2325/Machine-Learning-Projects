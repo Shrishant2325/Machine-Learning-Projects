{
  "nbformat": 4,
  "nbformat_minor": 0,
  "metadata": {
    "colab": {
      "provenance": [],
      "include_colab_link": true
    },
    "kernelspec": {
      "name": "python3",
      "display_name": "Python 3"
    },
    "language_info": {
      "name": "python"
    }
  },
  "cells": [
    {
      "cell_type": "markdown",
      "metadata": {
        "id": "view-in-github",
        "colab_type": "text"
      },
      "source": [
        "<a href=\"https://colab.research.google.com/github/Shrishant2325/Machine-Learning-Projects/blob/main/Chatbot.ipynb\" target=\"_parent\"><img src=\"https://colab.research.google.com/assets/colab-badge.svg\" alt=\"Open In Colab\"/></a>"
      ]
    },
    {
      "cell_type": "code",
      "execution_count": null,
      "metadata": {
        "colab": {
          "base_uri": "https://localhost:8080/"
        },
        "id": "2HM0hFsFsqMo",
        "outputId": "2cb2a4a3-92fd-4392-96a2-b84bb33399fc"
      },
      "outputs": [
        {
          "output_type": "stream",
          "name": "stdout",
          "text": [
            "Hello insan, what's your name?!🤔\n",
            "Shrishant Pandey\n",
            "Do you have a nickname?! [y/n] 🙃\n",
            "n\n",
            "I will call you dumb😜\n"
          ]
        }
      ],
      "source": [
        "import random\n",
        "from textblob import TextBlob\n",
        "\n",
        "#1 Name and Nickname conversation:-\n",
        "\n",
        "print(\"Hello insan, what's your name?!🤔\")\n",
        "name = input()\n",
        "print('Do you have a nickname?! [y/n] 🙃')\n",
        "ans = input()\n",
        "if 'y' in ans.lower():\n",
        "  print(\"What's your nickname?!😍\")\n",
        "  nickname = input()\n",
        "  print('Good to meet you ' + nickname + '😁')\n",
        "else:\n",
        "  name_list = ['killua', 'don', 'naruto', 'idiot', 'xoxo', 'kimchi', 'fatty-mcFat', 'mother-coconuts', 'phineas',\n",
        "               'dumb', 'cutie', 'gwen', 'prarthana', 'meow', 'tuple', 'silly goose', 'babe', 'rose', 'tupperware', 'dude']\n",
        "  nickname = random.choice(name_list)\n",
        "  print('I will call you '+nickname + '😜')\n"
      ]
    },
    {
      "cell_type": "code",
      "source": [
        "#2 greeting selection\n",
        "greetings = [\n",
        "    'How are you today ' + nickname + '?',\n",
        "    'Howdy ' + nickname + \" friend, how you feelin' today?\",\n",
        "    \"What's up \" + nickname + '?',\n",
        "    'Greetings ' + nickname + ' are you well?',\n",
        "    'How are things going ' + nickname + '?'\n",
        "]\n",
        "print(random.choice(greetings))\n",
        "ans = input()\n",
        "blob = TextBlob(ans)\n",
        "\n",
        "if blob.polarity > 0:\n",
        "  print('Glad you are doing well!😊')\n",
        "else:\n",
        "  print('Sorry to hear that! 😔')"
      ],
      "metadata": {
        "colab": {
          "base_uri": "https://localhost:8080/"
        },
        "id": "6YL3SwOCtVyf",
        "outputId": "fc9bee69-eca5-47e3-bfef-895b304053fa"
      },
      "execution_count": null,
      "outputs": [
        {
          "output_type": "stream",
          "name": "stdout",
          "text": [
            "How are you today dumb?\n",
            "Good\n",
            "Glad you are doing well!😊\n"
          ]
        }
      ]
    },
    {
      "cell_type": "code",
      "source": [
        "#3 several random opinions\n",
        "\n",
        "topics = [\n",
        "    'football',\n",
        "    'coding',\n",
        "    'Marvel',\n",
        "    'DC',\n",
        "    'Python',\n",
        "    'Computer Games',\n",
        "    'pubg',\n",
        "    'COD'\n",
        "]\n",
        "\n",
        "questions = [\n",
        "    'What is your take on ',\n",
        "    'What do u think about ',\n",
        "    'How do u feel about ',\n",
        "    'What do u reckon about ',\n",
        "    'I would like your opinion on '\n",
        "]\n",
        "for i in range(0, random.randint(3, 4)):\n",
        "  question = random.choice(questions)\n",
        "  questions.remove(question)\n",
        "  topic = random.choice(topics)\n",
        "  topics.remove(topic)\n",
        "  print(question + topic+'?')\n",
        "  ans = input()\n",
        "  blob = TextBlob(ans)\n",
        "\n",
        "  if blob.polarity > 0.5:\n",
        "    print(\"OMG, you really love \"+topic)\n",
        "  elif blob.polarity > 0.5:\n",
        "    print(\"Well, you clearly like \"+topic)\n",
        "  elif blob.polarity < -0.5:\n",
        "    print(\"Uff, you totally hate \"+topic)\n",
        "  elif blob.polarity < -0.1:\n",
        "    print(\"So you don't like \"+topic)\n",
        "  else:\n",
        "    print('That is a very neutral view on '+topic)\n",
        "\n",
        "  if blob.subjectivity > 0.6:\n",
        "    print('and you are so biased!')\n",
        "  elif blob.subjectivity > 0.3:\n",
        "    print('and you are bit biased!')\n",
        "  else:\n",
        "    print('and you are quite objective, huh!')"
      ],
      "metadata": {
        "colab": {
          "base_uri": "https://localhost:8080/"
        },
        "id": "_P6LPIfvtoUD",
        "outputId": "b91cf196-7bed-4e63-a6a7-f9218acd8369"
      },
      "execution_count": null,
      "outputs": [
        {
          "output_type": "stream",
          "name": "stdout",
          "text": [
            "What do u reckon about Marvel?\n",
            "Not better than DC\n",
            "So you don't like Marvel\n",
            "and you are bit biased!\n",
            "What do u think about pubg?\n",
            "addictive\n",
            "That is a very neutral view on pubg\n",
            "and you are so biased!\n",
            "What is your take on football?\n",
            "Favourite game\n",
            "So you don't like football\n",
            "and you are bit biased!\n",
            "How do u feel about Python?\n",
            "Easy\n",
            "That is a very neutral view on Python\n",
            "and you are so biased!\n"
          ]
        }
      ]
    },
    {
      "cell_type": "code",
      "source": [
        "#4 random goodbye\n",
        "\n",
        "goodbyes = [\n",
        "    'It was good talking to u ' +  nickname +  ' I gotta go now!',\n",
        "    \"OK I'm bored\"  +  nickname + \" I go watch NetFlix\",\n",
        "    \"Bye Bye\" + nickname + \" I'm out!\",\n",
        "    \"Catch ya later \" + nickname\n",
        "]\n",
        "\n",
        "print(random.choice(goodbyes))"
      ],
      "metadata": {
        "colab": {
          "base_uri": "https://localhost:8080/"
        },
        "id": "kD-lni0wvPdu",
        "outputId": "c3e7697e-e1e0-490d-80bb-ee1e1957e693"
      },
      "execution_count": null,
      "outputs": [
        {
          "output_type": "stream",
          "name": "stdout",
          "text": [
            "Bye Byedumb I'm out!\n"
          ]
        }
      ]
    }
  ]
}